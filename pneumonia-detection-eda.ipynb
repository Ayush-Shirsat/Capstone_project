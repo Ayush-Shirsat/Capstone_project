{
 "cells": [
  {
   "cell_type": "code",
   "execution_count": 1,
   "metadata": {
    "_cell_guid": "b1076dfc-b9ad-4769-8c92-a6c4dae69d19",
    "_uuid": "8f2839f25d086af736a60e9eeb907d3b93b6e0e5",
    "execution": {
     "iopub.execute_input": "2021-07-31T22:38:20.631228Z",
     "iopub.status.busy": "2021-07-31T22:38:20.630555Z",
     "iopub.status.idle": "2021-07-31T22:38:20.754722Z",
     "shell.execute_reply": "2021-07-31T22:38:20.754079Z",
     "shell.execute_reply.started": "2021-07-31T22:37:56.291917Z"
    },
    "papermill": {
     "duration": 0.140074,
     "end_time": "2021-07-31T22:38:20.754924",
     "exception": false,
     "start_time": "2021-07-31T22:38:20.614850",
     "status": "completed"
    },
    "tags": []
   },
   "outputs": [],
   "source": [
    "import pandas as pd\n",
    "import numpy as np\n",
    "import matplotlib.pyplot as plt\n",
    "import os\n",
    "from pydicom import dcmread\n",
    "import pydicom\n",
    "import gc"
   ]
  },
  {
   "cell_type": "code",
   "execution_count": 2,
   "metadata": {
    "execution": {
     "iopub.execute_input": "2021-07-31T22:38:20.780735Z",
     "iopub.status.busy": "2021-07-31T22:38:20.777626Z",
     "iopub.status.idle": "2021-07-31T22:38:20.784896Z",
     "shell.execute_reply": "2021-07-31T22:38:20.783927Z",
     "shell.execute_reply.started": "2021-07-31T22:37:56.374884Z"
    },
    "papermill": {
     "duration": 0.020591,
     "end_time": "2021-07-31T22:38:20.785070",
     "exception": false,
     "start_time": "2021-07-31T22:38:20.764479",
     "status": "completed"
    },
    "tags": []
   },
   "outputs": [
    {
     "data": {
      "text/plain": [
       "['rsna-pneumonia-detection-challenge']"
      ]
     },
     "execution_count": 2,
     "metadata": {},
     "output_type": "execute_result"
    }
   ],
   "source": [
    "os.listdir(\"../input/\")"
   ]
  },
  {
   "cell_type": "markdown",
   "metadata": {
    "papermill": {
     "duration": 0.009011,
     "end_time": "2021-07-31T22:38:20.803610",
     "exception": false,
     "start_time": "2021-07-31T22:38:20.794599",
     "status": "completed"
    },
    "tags": []
   },
   "source": [
    "Reading csv which has coordinates for bounding box. These coordinates encompass the opaque region in chest images which are used to signify Pneumonia. Images with target label 0 has NaN coordinates indicating no opacity and hence, no pneumonia. Since, we are building a segmentation model we do not need to replace/remove the NaNs. For images with target label 1 (Pneumonia) the coordinates are used to create mask which the model tries to predict to localize opacity."
   ]
  },
  {
   "cell_type": "code",
   "execution_count": 3,
   "metadata": {
    "execution": {
     "iopub.execute_input": "2021-07-31T22:38:20.828071Z",
     "iopub.status.busy": "2021-07-31T22:38:20.827428Z",
     "iopub.status.idle": "2021-07-31T22:38:20.944873Z",
     "shell.execute_reply": "2021-07-31T22:38:20.945366Z",
     "shell.execute_reply.started": "2021-07-31T22:37:56.388822Z"
    },
    "papermill": {
     "duration": 0.132331,
     "end_time": "2021-07-31T22:38:20.945557",
     "exception": false,
     "start_time": "2021-07-31T22:38:20.813226",
     "status": "completed"
    },
    "tags": []
   },
   "outputs": [
    {
     "data": {
      "text/html": [
       "<div>\n",
       "<style scoped>\n",
       "    .dataframe tbody tr th:only-of-type {\n",
       "        vertical-align: middle;\n",
       "    }\n",
       "\n",
       "    .dataframe tbody tr th {\n",
       "        vertical-align: top;\n",
       "    }\n",
       "\n",
       "    .dataframe thead th {\n",
       "        text-align: right;\n",
       "    }\n",
       "</style>\n",
       "<table border=\"1\" class=\"dataframe\">\n",
       "  <thead>\n",
       "    <tr style=\"text-align: right;\">\n",
       "      <th></th>\n",
       "      <th>patientId</th>\n",
       "      <th>x</th>\n",
       "      <th>y</th>\n",
       "      <th>width</th>\n",
       "      <th>height</th>\n",
       "      <th>Target</th>\n",
       "    </tr>\n",
       "  </thead>\n",
       "  <tbody>\n",
       "    <tr>\n",
       "      <th>0</th>\n",
       "      <td>0004cfab-14fd-4e49-80ba-63a80b6bddd6</td>\n",
       "      <td>NaN</td>\n",
       "      <td>NaN</td>\n",
       "      <td>NaN</td>\n",
       "      <td>NaN</td>\n",
       "      <td>0</td>\n",
       "    </tr>\n",
       "    <tr>\n",
       "      <th>1</th>\n",
       "      <td>00313ee0-9eaa-42f4-b0ab-c148ed3241cd</td>\n",
       "      <td>NaN</td>\n",
       "      <td>NaN</td>\n",
       "      <td>NaN</td>\n",
       "      <td>NaN</td>\n",
       "      <td>0</td>\n",
       "    </tr>\n",
       "    <tr>\n",
       "      <th>2</th>\n",
       "      <td>00322d4d-1c29-4943-afc9-b6754be640eb</td>\n",
       "      <td>NaN</td>\n",
       "      <td>NaN</td>\n",
       "      <td>NaN</td>\n",
       "      <td>NaN</td>\n",
       "      <td>0</td>\n",
       "    </tr>\n",
       "    <tr>\n",
       "      <th>3</th>\n",
       "      <td>003d8fa0-6bf1-40ed-b54c-ac657f8495c5</td>\n",
       "      <td>NaN</td>\n",
       "      <td>NaN</td>\n",
       "      <td>NaN</td>\n",
       "      <td>NaN</td>\n",
       "      <td>0</td>\n",
       "    </tr>\n",
       "    <tr>\n",
       "      <th>4</th>\n",
       "      <td>00436515-870c-4b36-a041-de91049b9ab4</td>\n",
       "      <td>264.0</td>\n",
       "      <td>152.0</td>\n",
       "      <td>213.0</td>\n",
       "      <td>379.0</td>\n",
       "      <td>1</td>\n",
       "    </tr>\n",
       "  </tbody>\n",
       "</table>\n",
       "</div>"
      ],
      "text/plain": [
       "                              patientId      x      y  width  height  Target\n",
       "0  0004cfab-14fd-4e49-80ba-63a80b6bddd6    NaN    NaN    NaN     NaN       0\n",
       "1  00313ee0-9eaa-42f4-b0ab-c148ed3241cd    NaN    NaN    NaN     NaN       0\n",
       "2  00322d4d-1c29-4943-afc9-b6754be640eb    NaN    NaN    NaN     NaN       0\n",
       "3  003d8fa0-6bf1-40ed-b54c-ac657f8495c5    NaN    NaN    NaN     NaN       0\n",
       "4  00436515-870c-4b36-a041-de91049b9ab4  264.0  152.0  213.0   379.0       1"
      ]
     },
     "execution_count": 3,
     "metadata": {},
     "output_type": "execute_result"
    }
   ],
   "source": [
    "df_target = pd.read_csv(\"../input/rsna-pneumonia-detection-challenge/stage_2_train_labels.csv\")\n",
    "df_target.head()"
   ]
  },
  {
   "cell_type": "markdown",
   "metadata": {
    "papermill": {
     "duration": 0.010064,
     "end_time": "2021-07-31T22:38:20.965587",
     "exception": false,
     "start_time": "2021-07-31T22:38:20.955523",
     "status": "completed"
    },
    "tags": []
   },
   "source": [
    "There are 3 classes:\n",
    "* No lung opacity/Not Normal\n",
    "* Lung Opacity\n",
    "* Normal"
   ]
  },
  {
   "cell_type": "code",
   "execution_count": 4,
   "metadata": {
    "execution": {
     "iopub.execute_input": "2021-07-31T22:38:20.990970Z",
     "iopub.status.busy": "2021-07-31T22:38:20.990299Z",
     "iopub.status.idle": "2021-07-31T22:38:21.053590Z",
     "shell.execute_reply": "2021-07-31T22:38:21.054098Z",
     "shell.execute_reply.started": "2021-07-31T22:37:56.470001Z"
    },
    "papermill": {
     "duration": 0.078408,
     "end_time": "2021-07-31T22:38:21.054287",
     "exception": false,
     "start_time": "2021-07-31T22:38:20.975879",
     "status": "completed"
    },
    "tags": []
   },
   "outputs": [
    {
     "data": {
      "text/html": [
       "<div>\n",
       "<style scoped>\n",
       "    .dataframe tbody tr th:only-of-type {\n",
       "        vertical-align: middle;\n",
       "    }\n",
       "\n",
       "    .dataframe tbody tr th {\n",
       "        vertical-align: top;\n",
       "    }\n",
       "\n",
       "    .dataframe thead th {\n",
       "        text-align: right;\n",
       "    }\n",
       "</style>\n",
       "<table border=\"1\" class=\"dataframe\">\n",
       "  <thead>\n",
       "    <tr style=\"text-align: right;\">\n",
       "      <th></th>\n",
       "      <th>patientId</th>\n",
       "      <th>class</th>\n",
       "    </tr>\n",
       "  </thead>\n",
       "  <tbody>\n",
       "    <tr>\n",
       "      <th>0</th>\n",
       "      <td>0004cfab-14fd-4e49-80ba-63a80b6bddd6</td>\n",
       "      <td>No Lung Opacity / Not Normal</td>\n",
       "    </tr>\n",
       "    <tr>\n",
       "      <th>1</th>\n",
       "      <td>00313ee0-9eaa-42f4-b0ab-c148ed3241cd</td>\n",
       "      <td>No Lung Opacity / Not Normal</td>\n",
       "    </tr>\n",
       "    <tr>\n",
       "      <th>2</th>\n",
       "      <td>00322d4d-1c29-4943-afc9-b6754be640eb</td>\n",
       "      <td>No Lung Opacity / Not Normal</td>\n",
       "    </tr>\n",
       "    <tr>\n",
       "      <th>3</th>\n",
       "      <td>003d8fa0-6bf1-40ed-b54c-ac657f8495c5</td>\n",
       "      <td>Normal</td>\n",
       "    </tr>\n",
       "    <tr>\n",
       "      <th>4</th>\n",
       "      <td>00436515-870c-4b36-a041-de91049b9ab4</td>\n",
       "      <td>Lung Opacity</td>\n",
       "    </tr>\n",
       "  </tbody>\n",
       "</table>\n",
       "</div>"
      ],
      "text/plain": [
       "                              patientId                         class\n",
       "0  0004cfab-14fd-4e49-80ba-63a80b6bddd6  No Lung Opacity / Not Normal\n",
       "1  00313ee0-9eaa-42f4-b0ab-c148ed3241cd  No Lung Opacity / Not Normal\n",
       "2  00322d4d-1c29-4943-afc9-b6754be640eb  No Lung Opacity / Not Normal\n",
       "3  003d8fa0-6bf1-40ed-b54c-ac657f8495c5                        Normal\n",
       "4  00436515-870c-4b36-a041-de91049b9ab4                  Lung Opacity"
      ]
     },
     "execution_count": 4,
     "metadata": {},
     "output_type": "execute_result"
    }
   ],
   "source": [
    "df_detailed_labels = pd.read_csv(\"../input/rsna-pneumonia-detection-challenge/stage_2_detailed_class_info.csv\")\n",
    "df_detailed_labels.head()"
   ]
  },
  {
   "cell_type": "markdown",
   "metadata": {
    "papermill": {
     "duration": 0.010234,
     "end_time": "2021-07-31T22:38:21.074799",
     "exception": false,
     "start_time": "2021-07-31T22:38:21.064565",
     "status": "completed"
    },
    "tags": []
   },
   "source": [
    "Merged Datadrame that consists of coordinates, target and class.\n",
    "Upon merging it is oberserved that class \"No Lung Opacity/ Not normal\" also have a label of 0. This means Pneumonia Images are the ones with only opacity and Target label 1. For rest of the classes the target label is 0"
   ]
  },
  {
   "cell_type": "code",
   "execution_count": 5,
   "metadata": {
    "execution": {
     "iopub.execute_input": "2021-07-31T22:38:21.101947Z",
     "iopub.status.busy": "2021-07-31T22:38:21.100851Z",
     "iopub.status.idle": "2021-07-31T22:38:21.145323Z",
     "shell.execute_reply": "2021-07-31T22:38:21.144659Z",
     "shell.execute_reply.started": "2021-07-31T22:37:56.521443Z"
    },
    "papermill": {
     "duration": 0.060168,
     "end_time": "2021-07-31T22:38:21.145476",
     "exception": false,
     "start_time": "2021-07-31T22:38:21.085308",
     "status": "completed"
    },
    "tags": []
   },
   "outputs": [
    {
     "data": {
      "text/html": [
       "<div>\n",
       "<style scoped>\n",
       "    .dataframe tbody tr th:only-of-type {\n",
       "        vertical-align: middle;\n",
       "    }\n",
       "\n",
       "    .dataframe tbody tr th {\n",
       "        vertical-align: top;\n",
       "    }\n",
       "\n",
       "    .dataframe thead th {\n",
       "        text-align: right;\n",
       "    }\n",
       "</style>\n",
       "<table border=\"1\" class=\"dataframe\">\n",
       "  <thead>\n",
       "    <tr style=\"text-align: right;\">\n",
       "      <th></th>\n",
       "      <th>patientId</th>\n",
       "      <th>x</th>\n",
       "      <th>y</th>\n",
       "      <th>width</th>\n",
       "      <th>height</th>\n",
       "      <th>Target</th>\n",
       "      <th>class</th>\n",
       "    </tr>\n",
       "  </thead>\n",
       "  <tbody>\n",
       "    <tr>\n",
       "      <th>0</th>\n",
       "      <td>0004cfab-14fd-4e49-80ba-63a80b6bddd6</td>\n",
       "      <td>NaN</td>\n",
       "      <td>NaN</td>\n",
       "      <td>NaN</td>\n",
       "      <td>NaN</td>\n",
       "      <td>0</td>\n",
       "      <td>No Lung Opacity / Not Normal</td>\n",
       "    </tr>\n",
       "    <tr>\n",
       "      <th>1</th>\n",
       "      <td>00313ee0-9eaa-42f4-b0ab-c148ed3241cd</td>\n",
       "      <td>NaN</td>\n",
       "      <td>NaN</td>\n",
       "      <td>NaN</td>\n",
       "      <td>NaN</td>\n",
       "      <td>0</td>\n",
       "      <td>No Lung Opacity / Not Normal</td>\n",
       "    </tr>\n",
       "    <tr>\n",
       "      <th>2</th>\n",
       "      <td>00322d4d-1c29-4943-afc9-b6754be640eb</td>\n",
       "      <td>NaN</td>\n",
       "      <td>NaN</td>\n",
       "      <td>NaN</td>\n",
       "      <td>NaN</td>\n",
       "      <td>0</td>\n",
       "      <td>No Lung Opacity / Not Normal</td>\n",
       "    </tr>\n",
       "    <tr>\n",
       "      <th>3</th>\n",
       "      <td>003d8fa0-6bf1-40ed-b54c-ac657f8495c5</td>\n",
       "      <td>NaN</td>\n",
       "      <td>NaN</td>\n",
       "      <td>NaN</td>\n",
       "      <td>NaN</td>\n",
       "      <td>0</td>\n",
       "      <td>Normal</td>\n",
       "    </tr>\n",
       "    <tr>\n",
       "      <th>4</th>\n",
       "      <td>00436515-870c-4b36-a041-de91049b9ab4</td>\n",
       "      <td>264.0</td>\n",
       "      <td>152.0</td>\n",
       "      <td>213.0</td>\n",
       "      <td>379.0</td>\n",
       "      <td>1</td>\n",
       "      <td>Lung Opacity</td>\n",
       "    </tr>\n",
       "  </tbody>\n",
       "</table>\n",
       "</div>"
      ],
      "text/plain": [
       "                              patientId      x      y  width  height  Target  \\\n",
       "0  0004cfab-14fd-4e49-80ba-63a80b6bddd6    NaN    NaN    NaN     NaN       0   \n",
       "1  00313ee0-9eaa-42f4-b0ab-c148ed3241cd    NaN    NaN    NaN     NaN       0   \n",
       "2  00322d4d-1c29-4943-afc9-b6754be640eb    NaN    NaN    NaN     NaN       0   \n",
       "3  003d8fa0-6bf1-40ed-b54c-ac657f8495c5    NaN    NaN    NaN     NaN       0   \n",
       "4  00436515-870c-4b36-a041-de91049b9ab4  264.0  152.0  213.0   379.0       1   \n",
       "\n",
       "                          class  \n",
       "0  No Lung Opacity / Not Normal  \n",
       "1  No Lung Opacity / Not Normal  \n",
       "2  No Lung Opacity / Not Normal  \n",
       "3                        Normal  \n",
       "4                  Lung Opacity  "
      ]
     },
     "execution_count": 5,
     "metadata": {},
     "output_type": "execute_result"
    }
   ],
   "source": [
    "df = df_target.merge(df_detailed_labels, left_on='patientId', right_on='patientId', how='inner')\n",
    "df.head()"
   ]
  },
  {
   "cell_type": "code",
   "execution_count": 6,
   "metadata": {
    "execution": {
     "iopub.execute_input": "2021-07-31T22:38:21.238570Z",
     "iopub.status.busy": "2021-07-31T22:38:21.237467Z",
     "iopub.status.idle": "2021-07-31T22:38:21.241707Z",
     "shell.execute_reply": "2021-07-31T22:38:21.241194Z",
     "shell.execute_reply.started": "2021-07-31T22:37:56.569366Z"
    },
    "papermill": {
     "duration": 0.085353,
     "end_time": "2021-07-31T22:38:21.241843",
     "exception": false,
     "start_time": "2021-07-31T22:38:21.156490",
     "status": "completed"
    },
    "tags": []
   },
   "outputs": [
    {
     "data": {
      "text/plain": [
       "60"
      ]
     },
     "execution_count": 6,
     "metadata": {},
     "output_type": "execute_result"
    }
   ],
   "source": [
    "'''Clear some memory by removing redundant dataframes'''\n",
    "del df_target\n",
    "del df_detailed_labels\n",
    "gc.collect()"
   ]
  },
  {
   "cell_type": "code",
   "execution_count": 7,
   "metadata": {
    "execution": {
     "iopub.execute_input": "2021-07-31T22:38:21.273426Z",
     "iopub.status.busy": "2021-07-31T22:38:21.272665Z",
     "iopub.status.idle": "2021-07-31T22:38:21.448511Z",
     "shell.execute_reply": "2021-07-31T22:38:21.449280Z",
     "shell.execute_reply.started": "2021-07-31T22:37:56.652109Z"
    },
    "papermill": {
     "duration": 0.196155,
     "end_time": "2021-07-31T22:38:21.449526",
     "exception": false,
     "start_time": "2021-07-31T22:38:21.253371",
     "status": "completed"
    },
    "tags": []
   },
   "outputs": [
    {
     "data": {
      "image/png": "[encoded data removed]",
      "text/plain": [
       "<Figure size 432x288 with 1 Axes>"
      ]
     },
     "metadata": {
      "needs_background": "light"
     },
     "output_type": "display_data"
    },
    {
     "name": "stdout",
     "output_type": "stream",
     "text": [
      "Count for label 0: 20672 (54.93635228148502%)\n",
      "Count for label 1: 16957 (45.06364771851498%)\n",
      "Total labels: 37629\n"
     ]
    }
   ],
   "source": [
    "'''Count for Target labels'''\n",
    "labels = df.Target.value_counts()\n",
    "plt.figure()\n",
    "plt.bar([0, 1], [labels[0], labels[1]])\n",
    "plt.xticks([0,1])\n",
    "plt.title(\"Target label count\")\n",
    "plt.xlabel(\"Target\")\n",
    "plt.ylabel(\"Count\")\n",
    "plt.show()\n",
    "print(\"Count for label 0: {} ({}%)\\nCount for label 1: {} ({}%)\\nTotal labels: {}\".format(labels[0], labels[0]*100/len(df), labels[1], labels[1]*100/len(df), len(df)))\n"
   ]
  },
  {
   "cell_type": "markdown",
   "metadata": {
    "papermill": {
     "duration": 0.013238,
     "end_time": "2021-07-31T22:38:21.481888",
     "exception": false,
     "start_time": "2021-07-31T22:38:21.468650",
     "status": "completed"
    },
    "tags": []
   },
   "source": [
    "Roughly 55% of labels are of Non-Pneumonia and 45% are of Pneumonia. There is class imbalance but it is not significant."
   ]
  },
  {
   "cell_type": "code",
   "execution_count": 8,
   "metadata": {
    "execution": {
     "iopub.execute_input": "2021-07-31T22:38:21.546393Z",
     "iopub.status.busy": "2021-07-31T22:38:21.545327Z",
     "iopub.status.idle": "2021-07-31T22:38:21.681863Z",
     "shell.execute_reply": "2021-07-31T22:38:21.682911Z",
     "shell.execute_reply.started": "2021-07-31T22:37:56.806913Z"
    },
    "papermill": {
     "duration": 0.188613,
     "end_time": "2021-07-31T22:38:21.683204",
     "exception": false,
     "start_time": "2021-07-31T22:38:21.494591",
     "status": "completed"
    },
    "tags": []
   },
   "outputs": [
    {
     "data": {
      "image/png": "[encoded data removed]",
      "text/plain": [
       "<Figure size 576x432 with 1 Axes>"
      ]
     },
     "metadata": {
      "needs_background": "light"
     },
     "output_type": "display_data"
    },
    {
     "name": "stdout",
     "output_type": "stream",
     "text": [
      "Lung Opacity: 16957 (45.06364771851498%)\n",
      "No Lung Opacity/ Not Normal: 11821 (31.414600441149112%)\n",
      "Normal: 8851 (23.52175184033591%)\n"
     ]
    }
   ],
   "source": [
    "'''Count for Classes'''\n",
    "labels = df[\"class\"].value_counts()\n",
    "plt.figure(figsize=(8,6))\n",
    "plt.bar([\"Lung Opacity\", \"No Lung Opacity/ Not Normal\", \"Normal\"], [labels[0], labels[1], labels[2]])\n",
    "plt.xticks([0,1,2])\n",
    "plt.title(\"Target label count\")\n",
    "plt.xlabel(\"Class\")\n",
    "plt.ylabel(\"Count\")\n",
    "plt.show()\n",
    "print(\"Lung Opacity: {} ({}%)\".format(labels[0], labels[0]*100/len(df)))\n",
    "print(\"No Lung Opacity/ Not Normal: {} ({}%)\".format(labels[1], labels[1]*100/len(df)))\n",
    "print(\"Normal: {} ({}%)\".format(labels[2], labels[2]*100/len(df)))"
   ]
  },
  {
   "cell_type": "markdown",
   "metadata": {
    "papermill": {
     "duration": 0.014444,
     "end_time": "2021-07-31T22:38:21.716186",
     "exception": false,
     "start_time": "2021-07-31T22:38:21.701742",
     "status": "completed"
    },
    "tags": []
   },
   "source": [
    "We can oberserve that class Lung Opacity has same count as Target label 1.\n",
    "\n",
    "For scope of the project, the aim is to correctly identify Pneumonia and localize it. Hence, if image has opacity then \"Pneumonia\" else \"No Pneumonia\"."
   ]
  }
 ],
 "metadata": {
  "kernelspec": {
   "display_name": "Python 3",
   "language": "python",
   "name": "python3"
  },
  "language_info": {
   "codemirror_mode": {
    "name": "ipython",
    "version": 3
   },
   "file_extension": ".py",
   "mimetype": "text/x-python",
   "name": "python",
   "nbconvert_exporter": "python",
   "pygments_lexer": "ipython3",
   "version": "3.7.9"
  },
  "papermill": {
   "default_parameters": {},
   "duration": 7.23117,
   "end_time": "2021-07-31T22:38:22.239514",
   "environment_variables": {},
   "exception": null,
   "input_path": "__notebook__.ipynb",
   "output_path": "__notebook__.ipynb",
   "parameters": {},
   "start_time": "2021-07-31T22:38:15.008344",
   "version": "2.2.2"
  }
 },
 "nbformat": 4,
 "nbformat_minor": 4
}
